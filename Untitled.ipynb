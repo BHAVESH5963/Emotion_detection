{
 "cells": [
  {
   "cell_type": "markdown",
   "id": "227d302d-4bb1-4c6e-b15c-00fff5d664ca",
   "metadata": {},
   "source": [
    "#Emotion Detection"
   ]
  },
  {
   "cell_type": "markdown",
   "id": "34b808f1-44c1-4deb-8427-f308bb19f7b7",
   "metadata": {},
   "source": [
    "**Importing Libraries**"
   ]
  },
  {
   "cell_type": "code",
   "execution_count": 3,
   "id": "6cca1226-7319-4ae1-9f6d-a60d340853db",
   "metadata": {},
   "outputs": [
    {
     "name": "stdout",
     "output_type": "stream",
     "text": [
      "WARNING:tensorflow:From C:\\Users\\shiv\\AppData\\Roaming\\Python\\Python311\\site-packages\\keras\\src\\losses.py:2976: The name tf.losses.sparse_softmax_cross_entropy is deprecated. Please use tf.compat.v1.losses.sparse_softmax_cross_entropy instead.\n",
      "\n",
      "Tensorflow version: 2.15.0\n"
     ]
    }
   ],
   "source": [
    "import matplotlib.pyplot as plt\n",
    "from glob import glob\n",
    "import cv2\n",
    "import random\n",
    "import os\n",
    "%matplotlib inline\n",
    "\n",
    "from tensorflow.keras.preprocessing.image import ImageDataGenerator\n",
    "from tensorflow.keras.layers import Dense, Input, Dropout,Flatten, Conv2D\n",
    "from tensorflow.keras.layers import BatchNormalization, Activation, MaxPooling2D\n",
    "from tensorflow.keras.models import Model, Sequential\n",
    "from tensorflow.keras.optimizers import Adam\n",
    "from tensorflow.keras.callbacks import ModelCheckpoint, ReduceLROnPlateau\n",
    "from tensorflow.keras.utils import plot_model\n",
    "\n",
    "from IPython.display import SVG, Image\n",
    "import tensorflow as tf\n",
    "print(\"Tensorflow version:\", tf.__version__)\n",
    "\n"
   ]
  },
  {
   "cell_type": "markdown",
   "id": "a7826262-975a-4d78-87f3-b02cded61b6a",
   "metadata": {},
   "source": [
    "**Exploring Dataset**"
   ]
  },
  {
   "cell_type": "code",
   "execution_count": null,
   "id": "d81eb104-12b1-4e0a-9b09-b31473f82481",
   "metadata": {},
   "outputs": [],
   "source": [
    "images = glob(\"train/**/**\")\n",
    "for i in range(9):\n",
    "    image = random.choice(images)\n",
    "    plt.figure(figsize=(12,12))\n",
    "    plt.subplot(331+i)\n",
    "    plt.imshow(cv2.imread(image));plt.axis('off')"
   ]
  },
  {
   "cell_type": "markdown",
   "id": "815c0573-fdf6-4891-bf5a-35a2a7052346",
   "metadata": {},
   "source": [
    "**Preparing Data For Traning**"
   ]
  },
  {
   "cell_type": "code",
   "execution_count": null,
   "id": "15fe48ff-a116-4bc9-8f07-a861b0a0d90d",
   "metadata": {},
   "outputs": [],
   "source": [
    "img_size = 48\n",
    "batch_size = 64\n",
    "datagen_train = ImageDataGenerator()\n",
    "train_generator = datagen_train.flow_from_directory(\"train/\",\n",
    "                                                   target_size = (img_size,img_size),\n",
    "                                                   color_mode = \"grayscale\",\n",
    "                                                   batch_size = batch_size,\n",
    "                                                   class_mode = \"categorical\",\n",
    "                                                   shuffle = True)\n",
    "\n",
    "datagen_validation = ImageDataGenerator()\n",
    "validation_generator = datagen_train.flow_from_directory(\"test/\",\n",
    "                                                   target_size = (img_size,img_size),\n",
    "                                                   color_mode = \"grayscale\",\n",
    "                                                   batch_size = batch_size,\n",
    "                                                   class_mode = \"categorical\",\n",
    "                                                   shuffle = True)"
   ]
  },
  {
   "cell_type": "markdown",
   "id": "e4766984-62f4-4c72-8713-efb0c0b4b1f2",
   "metadata": {},
   "source": [
    "**Defining Model**"
   ]
  },
  {
   "cell_type": "code",
   "execution_count": 7,
   "id": "357ac05a-6e12-4714-98fb-c88f87c15f84",
   "metadata": {},
   "outputs": [],
   "source": [
    "def Convolution(input_tensor,filters, kernel_size):\n",
    "    x = Conv2D(filters = filters,kernel_size = kernel_size,padding = \"same\")(input_tensor)\n",
    "    x = BatchNormalization()(x)\n",
    "    x = Activation('relu')(x)\n",
    "    x = MaxPooling2D(pool_size = (2,2))(x)\n",
    "    x = Dropout(0.25)(x)\n",
    "    return x\n",
    "    "
   ]
  },
  {
   "cell_type": "code",
   "execution_count": 8,
   "id": "251f412f-759b-482b-bbfd-83a53bf1d609",
   "metadata": {},
   "outputs": [],
   "source": [
    "def Dense_f(input_tensor, nodes):\n",
    "    x = Dense(nodes)(input_tensor)\n",
    "    x = BatchNormalization()(x)\n",
    "    x = Activation('relu')(x)\n",
    "    x = Dropout(0.25)(x)\n",
    "    return x\n",
    "\n"
   ]
  },
  {
   "cell_type": "code",
   "execution_count": 28,
   "id": "ec791c6b-9452-49b6-98d3-237f322819f9",
   "metadata": {},
   "outputs": [],
   "source": [
    "def model_fer(input_shape):\n",
    "    inputs = Input(input_shape)\n",
    "    conv_1 = Convolution(inputs,32,(3,3))\n",
    "    conv_2 = Convolution(inputs,64,(5,5))\n",
    "    conv_3 = Convolution(inputs,128,(3,3))\n",
    "    flatten = Flatten()(conv_3)\n",
    "    dense_1 = Dense_f(flatten,256)\n",
    "    output = Dense(7,activation = \"softmax\")(dense_1)\n",
    "    model = Model(inputs=[inputs],outputs =[output])\n",
    "    model.compile(loss =['categorical_crossentropy'], optimizer ='adam', metrics =['accuracy'])\n",
    "    return model\n",
    "    \n",
    "    "
   ]
  },
  {
   "cell_type": "code",
   "execution_count": null,
   "id": "913a0396-9806-4203-aa2a-9c391073b4ef",
   "metadata": {},
   "outputs": [],
   "source": [
    "model = model_fer((48,48,1))\n",
    "model.summary()"
   ]
  },
  {
   "cell_type": "markdown",
   "id": "051c8f4a-c67e-4c1a-9136-0ac3f5b25177",
   "metadata": {},
   "source": [
    "**Initializing Model**"
   ]
  },
  {
   "cell_type": "code",
   "execution_count": 30,
   "id": "0a3e7945-3d59-4897-99e3-5be4a7218cf9",
   "metadata": {},
   "outputs": [],
   "source": [
    "epochs = 15\n",
    "steps_per_epoch = train_generator.n//train_generator.batch_size\n",
    "validation_steps = validation_generator.n//validation_generator.batch_size\n",
    "checkpoint = ModelCheckpoint(\"model_weights.h5\", monitor ='val_accuracy',save_weights_only = True, mode = 'max', verbose = 1)\n",
    "callbacks = [checkpoint]"
   ]
  },
  {
   "cell_type": "markdown",
   "id": "ad1a2106-eb03-49a1-9b8d-d4e8afeed262",
   "metadata": {},
   "source": [
    "#Traning the Model"
   ]
  },
  {
   "cell_type": "markdown",
   "id": "409035d5-61c5-422e-ae17-7f2d56a4fa93",
   "metadata": {},
   "source": [
    "**the next cell takes time to complete**"
   ]
  },
  {
   "cell_type": "code",
   "execution_count": 33,
   "id": "bdb3616f-f5f7-4c71-896c-e8c85224314b",
   "metadata": {},
   "outputs": [
    {
     "name": "stdout",
     "output_type": "stream",
     "text": [
      "Epoch 1/15\n",
      "448/448 [==============================] - ETA: 0s - loss: 1.0963 - accuracy: 0.5929\n",
      "Epoch 1: saving model to model_weights.h5\n",
      "448/448 [==============================] - 244s 545ms/step - loss: 1.0963 - accuracy: 0.5929 - val_loss: 1.6997 - val_accuracy: 0.3571\n",
      "Epoch 2/15\n",
      "448/448 [==============================] - ETA: 0s - loss: 0.9791 - accuracy: 0.6393\n",
      "Epoch 2: saving model to model_weights.h5\n",
      "448/448 [==============================] - 245s 548ms/step - loss: 0.9791 - accuracy: 0.6393 - val_loss: 1.4509 - val_accuracy: 0.4681\n",
      "Epoch 3/15\n",
      "448/448 [==============================] - ETA: 0s - loss: 0.8501 - accuracy: 0.6931\n",
      "Epoch 3: saving model to model_weights.h5\n",
      "448/448 [==============================] - 242s 540ms/step - loss: 0.8501 - accuracy: 0.6931 - val_loss: 1.6868 - val_accuracy: 0.4136\n",
      "Epoch 4/15\n",
      "448/448 [==============================] - ETA: 0s - loss: 0.7375 - accuracy: 0.7358\n",
      "Epoch 4: saving model to model_weights.h5\n",
      "448/448 [==============================] - 244s 544ms/step - loss: 0.7375 - accuracy: 0.7358 - val_loss: 1.7025 - val_accuracy: 0.4064\n",
      "Epoch 5/15\n",
      "448/448 [==============================] - ETA: 0s - loss: 0.6357 - accuracy: 0.7762\n",
      "Epoch 5: saving model to model_weights.h5\n",
      "448/448 [==============================] - 247s 552ms/step - loss: 0.6357 - accuracy: 0.7762 - val_loss: 1.8752 - val_accuracy: 0.4415\n",
      "Epoch 6/15\n",
      "448/448 [==============================] - ETA: 0s - loss: 0.5371 - accuracy: 0.8127\n",
      "Epoch 6: saving model to model_weights.h5\n",
      "448/448 [==============================] - 247s 551ms/step - loss: 0.5371 - accuracy: 0.8127 - val_loss: 1.6250 - val_accuracy: 0.4854\n",
      "Epoch 7/15\n",
      "448/448 [==============================] - ETA: 0s - loss: 0.4661 - accuracy: 0.8403\n",
      "Epoch 7: saving model to model_weights.h5\n",
      "448/448 [==============================] - 247s 550ms/step - loss: 0.4661 - accuracy: 0.8403 - val_loss: 2.4371 - val_accuracy: 0.3464\n",
      "Epoch 8/15\n",
      "448/448 [==============================] - ETA: 0s - loss: 0.4058 - accuracy: 0.8621\n",
      "Epoch 8: saving model to model_weights.h5\n",
      "448/448 [==============================] - 247s 550ms/step - loss: 0.4058 - accuracy: 0.8621 - val_loss: 1.7451 - val_accuracy: 0.4708\n",
      "Epoch 9/15\n",
      "448/448 [==============================] - ETA: 0s - loss: 0.3515 - accuracy: 0.8813\n",
      "Epoch 9: saving model to model_weights.h5\n",
      "448/448 [==============================] - 244s 545ms/step - loss: 0.3515 - accuracy: 0.8813 - val_loss: 1.7184 - val_accuracy: 0.5036\n",
      "Epoch 10/15\n",
      "448/448 [==============================] - ETA: 0s - loss: 0.3057 - accuracy: 0.8989\n",
      "Epoch 10: saving model to model_weights.h5\n",
      "448/448 [==============================] - 247s 551ms/step - loss: 0.3057 - accuracy: 0.8989 - val_loss: 2.0196 - val_accuracy: 0.4738\n",
      "Epoch 11/15\n",
      "448/448 [==============================] - ETA: 0s - loss: 0.2818 - accuracy: 0.9067\n",
      "Epoch 11: saving model to model_weights.h5\n",
      "448/448 [==============================] - 245s 547ms/step - loss: 0.2818 - accuracy: 0.9067 - val_loss: 1.9124 - val_accuracy: 0.4809\n",
      "Epoch 12/15\n",
      "448/448 [==============================] - ETA: 0s - loss: 0.2547 - accuracy: 0.9152\n",
      "Epoch 12: saving model to model_weights.h5\n",
      "448/448 [==============================] - 244s 545ms/step - loss: 0.2547 - accuracy: 0.9152 - val_loss: 1.9470 - val_accuracy: 0.4823\n",
      "Epoch 13/15\n",
      "448/448 [==============================] - ETA: 0s - loss: 0.2269 - accuracy: 0.9273\n",
      "Epoch 13: saving model to model_weights.h5\n",
      "448/448 [==============================] - 244s 544ms/step - loss: 0.2269 - accuracy: 0.9273 - val_loss: 2.0368 - val_accuracy: 0.5010\n",
      "Epoch 14/15\n",
      "448/448 [==============================] - ETA: 0s - loss: 0.2196 - accuracy: 0.9260\n",
      "Epoch 14: saving model to model_weights.h5\n",
      "448/448 [==============================] - 243s 541ms/step - loss: 0.2196 - accuracy: 0.9260 - val_loss: 2.1119 - val_accuracy: 0.5059\n",
      "Epoch 15/15\n",
      "448/448 [==============================] - ETA: 0s - loss: 0.1929 - accuracy: 0.9368\n",
      "Epoch 15: saving model to model_weights.h5\n",
      "448/448 [==============================] - 242s 540ms/step - loss: 0.1929 - accuracy: 0.9368 - val_loss: 2.0793 - val_accuracy: 0.4972\n"
     ]
    }
   ],
   "source": [
    "history = model.fit(\n",
    "x = train_generator,\n",
    "steps_per_epoch = steps_per_epoch,\n",
    "epochs = epochs,\n",
    "validation_data = validation_generator,\n",
    "validation_steps = validation_steps,\n",
    "callbacks = callbacks)\n",
    "\n",
    "    "
   ]
  },
  {
   "cell_type": "markdown",
   "id": "377c4302-a3ac-41c6-9678-2c14f54e0734",
   "metadata": {},
   "source": [
    "#Model Evaluation"
   ]
  },
  {
   "cell_type": "code",
   "execution_count": 34,
   "id": "4f1cb206-94ea-49f2-a8e6-3384d1b4d414",
   "metadata": {},
   "outputs": [
    {
     "name": "stdout",
     "output_type": "stream",
     "text": [
      "113/113 [==============================] - 11s 93ms/step - loss: 2.0790 - accuracy: 0.4974\n"
     ]
    },
    {
     "data": {
      "text/plain": [
       "[2.0789809226989746, 0.4973530173301697]"
      ]
     },
     "execution_count": 34,
     "metadata": {},
     "output_type": "execute_result"
    }
   ],
   "source": [
    "model.evaluate(validation_generator)"
   ]
  },
  {
   "cell_type": "markdown",
   "id": "4e14cca9-7cb5-4343-81ad-6560364f3211",
   "metadata": {},
   "source": [
    "**Plotting Loss**"
   ]
  },
  {
   "cell_type": "code",
   "execution_count": 37,
   "id": "2113283a-ab5f-4dfd-b8a7-6f22781b0122",
   "metadata": {},
   "outputs": [
    {
     "data": {
      "image/png": "[encoded data removed]",
      "text/plain": [
       "<Figure size 640x480 with 1 Axes>"
      ]
     },
     "metadata": {},
     "output_type": "display_data"
    }
   ],
   "source": [
    "plt.plot(history.history['loss'])\n",
    "plt.plot(history.history['val_loss'])\n",
    "plt.title('Model Loss')\n",
    "plt.legend(['Train','Validation'],loc = 'upper left')\n",
    "plt.subplots_adjust(top=1.0,bottom=0.0,right=0.95,left=0.0,hspace=0.25,wspace=0.35)"
   ]
  },
  {
   "cell_type": "code",
   "execution_count": 38,
   "id": "cb9d7e9f-399a-4230-8b9d-164e5e12b1a8",
   "metadata": {},
   "outputs": [
    {
     "data": {
      "image/png": "[encoded data removed]",
      "text/plain": [
       "<Figure size 640x480 with 1 Axes>"
      ]
     },
     "metadata": {},
     "output_type": "display_data"
    }
   ],
   "source": [
    "\n",
    "plt.plot(history.history['accuracy'])\n",
    "plt.plot(history.history['val_accuracy'])\n",
    "plt.title('Model Accuracy')\n",
    "plt.legend(['Train','Validation'],loc = 'upper left')\n",
    "plt.subplots_adjust(top=1.0,bottom=0.0,right=0.95,left=0.0,hspace=0.25,wspace=0.35)\n"
   ]
  },
  {
   "cell_type": "markdown",
   "id": "497cc82a-9043-449a-b059-8d91f4f71ab5",
   "metadata": {},
   "source": [
    "**Saving Model**"
   ]
  },
  {
   "cell_type": "code",
   "execution_count": 39,
   "id": "caa7a757-df4f-4bf9-8257-48f012b5ea1f",
   "metadata": {},
   "outputs": [],
   "source": [
    "model_json = model.to_json()\n",
    "with open(\"model_a.json\",\"w\") as json_file:\n",
    "    json_file.write(model_json)"
   ]
  },
  {
   "cell_type": "code",
   "execution_count": null,
   "id": "546bc895-9ad5-4537-8091-d1fd782756dc",
   "metadata": {},
   "outputs": [],
   "source": []
  }
 ],
 "metadata": {
  "kernelspec": {
   "display_name": "Python 3 (ipykernel)",
   "language": "python",
   "name": "python3"
  },
  "language_info": {
   "codemirror_mode": {
    "name": "ipython",
    "version": 3
   },
   "file_extension": ".py",
   "mimetype": "text/x-python",
   "name": "python",
   "nbconvert_exporter": "python",
   "pygments_lexer": "ipython3",
   "version": "3.11.5"
  }
 },
 "nbformat": 4,
 "nbformat_minor": 5
}
